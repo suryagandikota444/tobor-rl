{
 "cells": [
  {
   "cell_type": "code",
   "execution_count": 1,
   "id": "079707bc",
   "metadata": {},
   "outputs": [
    {
     "name": "stdout",
     "output_type": "stream",
     "text": [
      "Solution exceeds joint limits\n"
     ]
    }
   ],
   "source": [
    "import math\n",
    "\n",
    "def inverse_kinematics(x_d, y_d):\n",
    "    L1 = 15.0  # cm\n",
    "    L2 = 13.4  # cm\n",
    "\n",
    "    # Step 1: Distance from origin to target\n",
    "    r_squared = x_d * x_d + y_d * y_d\n",
    "    r = math.sqrt(r_squared)\n",
    "\n",
    "    # Step 2: Law of Cosines for elbow angle\n",
    "    cos_theta2 = (r_squared - L1 * L1 - L2 * L2) / (2 * L1 * L2)\n",
    "    if cos_theta2 < -1.0 or cos_theta2 > 1.0:\n",
    "        print(\"Unreachable position\")\n",
    "        return None, None\n",
    "\n",
    "    # Elbow angle in math coordinates\n",
    "    theta2_math = math.acos(cos_theta2)  # radians\n",
    "\n",
    "    # Step 3: Shoulder angle\n",
    "    k1 = L1 + L2 * math.cos(theta2_math)\n",
    "    k2 = L2 * math.sin(theta2_math)\n",
    "    theta1_math = math.atan2(y_d, x_d) - math.atan2(k2, k1)  # radians\n",
    "\n",
    "    # Step 4: Convert to degrees\n",
    "    theta1_deg = math.degrees(theta1_math)\n",
    "    theta2_deg = math.degrees(theta2_math)\n",
    "\n",
    "    # Step 5: Adjust for hardware zero and direction conventions\n",
    "    theta1_out = theta1_deg  # Arm 1: CW is positive\n",
    "    theta2_out = -theta2_deg + 130.0  # Arm 2: CCW is positive, zero at 130°\n",
    "\n",
    "    # Step 6: Clamp to range (optional)\n",
    "    if theta1_out < 0 or theta1_out > 270 or theta2_out < 0 or theta2_out > 270:\n",
    "        print(\"Solution exceeds joint limits\")\n",
    "        return None, None\n",
    "\n",
    "    return theta1_out, theta2_out\n",
    "\n",
    "# Example usage\n",
    "x = 10.0\n",
    "y = 10.0\n",
    "theta1, theta2 = inverse_kinematics(x, y)\n",
    "if theta1 is not None:\n",
    "    print(f\"(x={x}, y={y}) → θ1 = {theta1:.2f}°, θ2 = {theta2:.2f}°\")"
   ]
  },
  {
   "cell_type": "code",
   "execution_count": null,
   "id": "a5092823",
   "metadata": {},
   "outputs": [],
   "source": []
  }
 ],
 "metadata": {
  "kernelspec": {
   "display_name": "venv",
   "language": "python",
   "name": "python3"
  },
  "language_info": {
   "codemirror_mode": {
    "name": "ipython",
    "version": 3
   },
   "file_extension": ".py",
   "mimetype": "text/x-python",
   "name": "python",
   "nbconvert_exporter": "python",
   "pygments_lexer": "ipython3",
   "version": "3.13.2"
  }
 },
 "nbformat": 4,
 "nbformat_minor": 5
}
